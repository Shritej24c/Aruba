{
 "cells": [
  {
   "cell_type": "code",
   "execution_count": 1,
   "id": "1647a69e",
   "metadata": {},
   "outputs": [],
   "source": [
    "import graphviz as gv\n",
    "import pandas as pd"
   ]
  },
  {
   "cell_type": "code",
   "execution_count": 2,
   "id": "1e620817",
   "metadata": {},
   "outputs": [],
   "source": [
    "df=pd.read_csv(\"Test file_graph viz.csv\")"
   ]
  },
  {
   "cell_type": "code",
   "execution_count": 3,
   "id": "373b4149",
   "metadata": {},
   "outputs": [
    {
     "data": {
      "text/html": [
       "<div>\n",
       "<style scoped>\n",
       "    .dataframe tbody tr th:only-of-type {\n",
       "        vertical-align: middle;\n",
       "    }\n",
       "\n",
       "    .dataframe tbody tr th {\n",
       "        vertical-align: top;\n",
       "    }\n",
       "\n",
       "    .dataframe thead th {\n",
       "        text-align: right;\n",
       "    }\n",
       "</style>\n",
       "<table border=\"1\" class=\"dataframe\">\n",
       "  <thead>\n",
       "    <tr style=\"text-align: right;\">\n",
       "      <th></th>\n",
       "      <th>Name</th>\n",
       "      <th>Date_Time</th>\n",
       "      <th>Score</th>\n",
       "    </tr>\n",
       "  </thead>\n",
       "  <tbody>\n",
       "    <tr>\n",
       "      <th>0</th>\n",
       "      <td>J</td>\n",
       "      <td>4/1/2023 20:59</td>\n",
       "      <td>24</td>\n",
       "    </tr>\n",
       "    <tr>\n",
       "      <th>1</th>\n",
       "      <td>B</td>\n",
       "      <td>4/2/2023 20:59</td>\n",
       "      <td>35</td>\n",
       "    </tr>\n",
       "    <tr>\n",
       "      <th>2</th>\n",
       "      <td>F</td>\n",
       "      <td>3/30/2023 20:59</td>\n",
       "      <td>42</td>\n",
       "    </tr>\n",
       "  </tbody>\n",
       "</table>\n",
       "</div>"
      ],
      "text/plain": [
       "  Name        Date_Time  Score\n",
       "0    J   4/1/2023 20:59     24\n",
       "1    B   4/2/2023 20:59     35\n",
       "2    F  3/30/2023 20:59     42"
      ]
     },
     "execution_count": 3,
     "metadata": {},
     "output_type": "execute_result"
    }
   ],
   "source": [
    "df"
   ]
  },
  {
   "cell_type": "code",
   "execution_count": 4,
   "id": "8d4df4e7",
   "metadata": {},
   "outputs": [],
   "source": [
    "df['dates']=pd.to_datetime(df.Date_Time)"
   ]
  },
  {
   "cell_type": "code",
   "execution_count": 5,
   "id": "23abbaf2",
   "metadata": {},
   "outputs": [],
   "source": [
    "df_sorted=df.sort_values(by=['dates'])"
   ]
  },
  {
   "cell_type": "code",
   "execution_count": 6,
   "id": "05ae4685",
   "metadata": {},
   "outputs": [
    {
     "data": {
      "text/html": [
       "<div>\n",
       "<style scoped>\n",
       "    .dataframe tbody tr th:only-of-type {\n",
       "        vertical-align: middle;\n",
       "    }\n",
       "\n",
       "    .dataframe tbody tr th {\n",
       "        vertical-align: top;\n",
       "    }\n",
       "\n",
       "    .dataframe thead th {\n",
       "        text-align: right;\n",
       "    }\n",
       "</style>\n",
       "<table border=\"1\" class=\"dataframe\">\n",
       "  <thead>\n",
       "    <tr style=\"text-align: right;\">\n",
       "      <th></th>\n",
       "      <th>Name</th>\n",
       "      <th>Date_Time</th>\n",
       "      <th>Score</th>\n",
       "      <th>dates</th>\n",
       "    </tr>\n",
       "  </thead>\n",
       "  <tbody>\n",
       "    <tr>\n",
       "      <th>2</th>\n",
       "      <td>F</td>\n",
       "      <td>3/30/2023 20:59</td>\n",
       "      <td>42</td>\n",
       "      <td>2023-03-30 20:59:00</td>\n",
       "    </tr>\n",
       "    <tr>\n",
       "      <th>0</th>\n",
       "      <td>J</td>\n",
       "      <td>4/1/2023 20:59</td>\n",
       "      <td>24</td>\n",
       "      <td>2023-04-01 20:59:00</td>\n",
       "    </tr>\n",
       "    <tr>\n",
       "      <th>1</th>\n",
       "      <td>B</td>\n",
       "      <td>4/2/2023 20:59</td>\n",
       "      <td>35</td>\n",
       "      <td>2023-04-02 20:59:00</td>\n",
       "    </tr>\n",
       "  </tbody>\n",
       "</table>\n",
       "</div>"
      ],
      "text/plain": [
       "  Name        Date_Time  Score               dates\n",
       "2    F  3/30/2023 20:59     42 2023-03-30 20:59:00\n",
       "0    J   4/1/2023 20:59     24 2023-04-01 20:59:00\n",
       "1    B   4/2/2023 20:59     35 2023-04-02 20:59:00"
      ]
     },
     "execution_count": 6,
     "metadata": {},
     "output_type": "execute_result"
    }
   ],
   "source": [
    "df_sorted"
   ]
  },
  {
   "cell_type": "code",
   "execution_count": 7,
   "id": "04767aeb",
   "metadata": {},
   "outputs": [
    {
     "data": {
      "text/html": [
       "<div>\n",
       "<style scoped>\n",
       "    .dataframe tbody tr th:only-of-type {\n",
       "        vertical-align: middle;\n",
       "    }\n",
       "\n",
       "    .dataframe tbody tr th {\n",
       "        vertical-align: top;\n",
       "    }\n",
       "\n",
       "    .dataframe thead th {\n",
       "        text-align: right;\n",
       "    }\n",
       "</style>\n",
       "<table border=\"1\" class=\"dataframe\">\n",
       "  <thead>\n",
       "    <tr style=\"text-align: right;\">\n",
       "      <th></th>\n",
       "      <th>Name</th>\n",
       "      <th>Score</th>\n",
       "      <th>dates</th>\n",
       "    </tr>\n",
       "  </thead>\n",
       "  <tbody>\n",
       "    <tr>\n",
       "      <th>2</th>\n",
       "      <td>F</td>\n",
       "      <td>42</td>\n",
       "      <td>2023-03-30 20:59:00</td>\n",
       "    </tr>\n",
       "    <tr>\n",
       "      <th>0</th>\n",
       "      <td>J</td>\n",
       "      <td>24</td>\n",
       "      <td>2023-04-01 20:59:00</td>\n",
       "    </tr>\n",
       "    <tr>\n",
       "      <th>1</th>\n",
       "      <td>B</td>\n",
       "      <td>35</td>\n",
       "      <td>2023-04-02 20:59:00</td>\n",
       "    </tr>\n",
       "  </tbody>\n",
       "</table>\n",
       "</div>"
      ],
      "text/plain": [
       "  Name  Score               dates\n",
       "2    F     42 2023-03-30 20:59:00\n",
       "0    J     24 2023-04-01 20:59:00\n",
       "1    B     35 2023-04-02 20:59:00"
      ]
     },
     "execution_count": 7,
     "metadata": {},
     "output_type": "execute_result"
    }
   ],
   "source": [
    "df_final=df_sorted[[\"Name\",\"Score\",\"dates\"]]\n",
    "df_final"
   ]
  },
  {
   "cell_type": "code",
   "execution_count": 8,
   "id": "2c30e7b9",
   "metadata": {},
   "outputs": [
    {
     "data": {
      "text/html": [
       "<div>\n",
       "<style scoped>\n",
       "    .dataframe tbody tr th:only-of-type {\n",
       "        vertical-align: middle;\n",
       "    }\n",
       "\n",
       "    .dataframe tbody tr th {\n",
       "        vertical-align: top;\n",
       "    }\n",
       "\n",
       "    .dataframe thead th {\n",
       "        text-align: right;\n",
       "    }\n",
       "</style>\n",
       "<table border=\"1\" class=\"dataframe\">\n",
       "  <thead>\n",
       "    <tr style=\"text-align: right;\">\n",
       "      <th></th>\n",
       "      <th>Concatenated</th>\n",
       "    </tr>\n",
       "  </thead>\n",
       "  <tbody>\n",
       "    <tr>\n",
       "      <th>0</th>\n",
       "      <td>F\\n42\\n2023-03-30 20:59:00</td>\n",
       "    </tr>\n",
       "    <tr>\n",
       "      <th>1</th>\n",
       "      <td>J\\n24\\n2023-04-01 20:59:00</td>\n",
       "    </tr>\n",
       "    <tr>\n",
       "      <th>2</th>\n",
       "      <td>B\\n35\\n2023-04-02 20:59:00</td>\n",
       "    </tr>\n",
       "  </tbody>\n",
       "</table>\n",
       "</div>"
      ],
      "text/plain": [
       "                 Concatenated\n",
       "0  F\\n42\\n2023-03-30 20:59:00\n",
       "1  J\\n24\\n2023-04-01 20:59:00\n",
       "2  B\\n35\\n2023-04-02 20:59:00"
      ]
     },
     "execution_count": 8,
     "metadata": {},
     "output_type": "execute_result"
    }
   ],
   "source": [
    "df_final['Concatenated'] = None\n",
    "\n",
    "df_final['Concatenated'] = df_final.apply(lambda x: x['Name'] + '\\n' + str(x['Score']) + '\\n' + str(x['dates']), axis=1)\n",
    "\n",
    "df_final_concat=df_final[[\"Concatenated\"]]\n",
    "\n",
    "df_final_concat = df_final_concat.reset_index(drop=True)\n",
    "\n",
    "df_final_concat\n"
   ]
  },
  {
   "cell_type": "code",
   "execution_count": 12,
   "id": "fe009d5d",
   "metadata": {},
   "outputs": [],
   "source": [
    "graph = gv.Digraph()"
   ]
  },
  {
   "cell_type": "code",
   "execution_count": 13,
   "id": "e7dccc75",
   "metadata": {},
   "outputs": [
    {
     "data": {
      "text/plain": [
       "'inital graph.pdf'"
      ]
     },
     "execution_count": 13,
     "metadata": {},
     "output_type": "execute_result"
    }
   ],
   "source": [
    "for i, row in df_final_concat.iterrows():\n",
    "    graph.node(str(i), row['Concatenated'])\n",
    "\n",
    "graph.render('inital graph', view=True)"
   ]
  },
  {
   "cell_type": "code",
   "execution_count": 14,
   "id": "37d9368c",
   "metadata": {},
   "outputs": [
    {
     "data": {
      "text/plain": [
       "'sorted_values_graph.pdf'"
      ]
     },
     "execution_count": 14,
     "metadata": {},
     "output_type": "execute_result"
    }
   ],
   "source": [
    "# Add edges between the nodes to represent their relative positions\n",
    "for i in range(len(df_final_concat)-1):\n",
    "    graph.edge(str(i), str(i+1))\n",
    "\n",
    "# Render the graph\n",
    "graph.render('sorted_values_graph', view=True)"
   ]
  }
 ],
 "metadata": {
  "kernelspec": {
   "display_name": "Python 3 (ipykernel)",
   "language": "python",
   "name": "python3"
  },
  "language_info": {
   "codemirror_mode": {
    "name": "ipython",
    "version": 3
   },
   "file_extension": ".py",
   "mimetype": "text/x-python",
   "name": "python",
   "nbconvert_exporter": "python",
   "pygments_lexer": "ipython3",
   "version": "3.9.13"
  }
 },
 "nbformat": 4,
 "nbformat_minor": 5
}
